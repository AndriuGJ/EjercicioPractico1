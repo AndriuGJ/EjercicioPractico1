{
  "nbformat": 4,
  "nbformat_minor": 0,
  "metadata": {
    "colab": {
      "provenance": [],
      "authorship_tag": "ABX9TyOyUGFHDdZ6pqvbbQE938KZ",
      "include_colab_link": true
    },
    "kernelspec": {
      "name": "python3",
      "display_name": "Python 3"
    },
    "language_info": {
      "name": "python"
    }
  },
  "cells": [
    {
      "cell_type": "markdown",
      "metadata": {
        "id": "view-in-github",
        "colab_type": "text"
      },
      "source": [
        "<a href=\"https://colab.research.google.com/github/AndriuGJ/EjercicioPractico1/blob/main/PracticaCalificada1.ipynb\" target=\"_parent\"><img src=\"https://colab.research.google.com/assets/colab-badge.svg\" alt=\"Open In Colab\"/></a>"
      ]
    },
    {
      "cell_type": "markdown",
      "source": [
        "PRACTICA CALIFICADA 1"
      ],
      "metadata": {
        "id": "ypJiZcbie2Og"
      }
    },
    {
      "cell_type": "code",
      "execution_count": 1,
      "metadata": {
        "id": "kZyVjtRSe0s8"
      },
      "outputs": [],
      "source": [
        "import numpy as np"
      ]
    },
    {
      "cell_type": "markdown",
      "source": [
        "1: Resolver con Numpy los siguientes casos:"
      ],
      "metadata": {
        "id": "YhZea5Tpm4lX"
      }
    },
    {
      "cell_type": "code",
      "source": [
        "#1 Crear un vector de numeros enteros del 1 al 20\n",
        "vector = np.arange(1, 21)\n",
        "print(vector)"
      ],
      "metadata": {
        "colab": {
          "base_uri": "https://localhost:8080/"
        },
        "id": "5RnO45dZfS3W",
        "outputId": "5e90f494-d3d1-42c3-db81-d1cb4e93b23e"
      },
      "execution_count": 2,
      "outputs": [
        {
          "output_type": "stream",
          "name": "stdout",
          "text": [
            "[ 1  2  3  4  5  6  7  8  9 10 11 12 13 14 15 16 17 18 19 20]\n"
          ]
        }
      ]
    },
    {
      "cell_type": "code",
      "source": [
        "#2 Crear una matriz de 3x3 con valores aleatorios de 0 y 1\n",
        "matriz = np.random.randint(0, 2, size=(3, 3))\n",
        "print(matriz)"
      ],
      "metadata": {
        "colab": {
          "base_uri": "https://localhost:8080/"
        },
        "id": "xTx_wFqQfauA",
        "outputId": "cdab59e4-43d0-444b-c860-6fa6f0745d64"
      },
      "execution_count": 3,
      "outputs": [
        {
          "output_type": "stream",
          "name": "stdout",
          "text": [
            "[[1 0 1]\n",
            " [0 0 0]\n",
            " [0 0 0]]\n"
          ]
        }
      ]
    },
    {
      "cell_type": "code",
      "source": [
        "#3 Redimendionar una matriz 4x4 a una 2x8\n",
        "matriz_4x4 = np.random.randint(1, 10, size=(4, 4))\n",
        "matriz_2x8 = matriz_4x4.reshape(2, 8)\n",
        "print(matriz_2x8)"
      ],
      "metadata": {
        "colab": {
          "base_uri": "https://localhost:8080/"
        },
        "id": "lQ_ljaQBf-uY",
        "outputId": "80384eb3-2001-410a-fda6-794388d40cbe"
      },
      "execution_count": 4,
      "outputs": [
        {
          "output_type": "stream",
          "name": "stdout",
          "text": [
            "[[4 5 5 6 9 4 9 5]\n",
            " [4 4 7 8 2 2 6 7]]\n"
          ]
        }
      ]
    },
    {
      "cell_type": "code",
      "source": [
        "#4 Crear una matriz de 10 equidistante\n",
        "matriz_10 = np.random.randint(0, 2, size=(10, 10))\n",
        "print(matriz_10)"
      ],
      "metadata": {
        "colab": {
          "base_uri": "https://localhost:8080/"
        },
        "id": "7atdDfTNhnzw",
        "outputId": "e8ba4960-013d-4acc-f117-a21cbae7cac5"
      },
      "execution_count": 6,
      "outputs": [
        {
          "output_type": "stream",
          "name": "stdout",
          "text": [
            "[[1 1 1 0 1 1 1 1 1 0]\n",
            " [1 1 0 1 0 0 1 1 1 0]\n",
            " [1 0 0 1 1 1 1 1 1 1]\n",
            " [1 1 0 0 1 0 1 1 0 0]\n",
            " [1 1 1 0 0 0 0 0 1 1]\n",
            " [0 1 1 1 1 0 0 0 1 1]\n",
            " [1 0 1 1 0 1 1 1 1 0]\n",
            " [1 1 0 0 1 1 0 0 1 0]\n",
            " [0 0 1 1 0 0 0 1 1 1]\n",
            " [1 1 1 1 1 1 0 0 0 0]]\n"
          ]
        }
      ]
    },
    {
      "cell_type": "code",
      "source": [
        "#5 Concatenar 2 vectores uno vertical y el otro horizontal\n",
        "vertical = np.random.randint(1,10, size=(1,4))\n",
        "horizontal = np.random.randint(1,10, size=(4,1))\n",
        "print(vertical)\n",
        "print(horizontal)\n",
        "print('=======CONCATENADO=======')\n",
        "print(np.concatenate((vertical.T, horizontal), axis=0))"
      ],
      "metadata": {
        "colab": {
          "base_uri": "https://localhost:8080/"
        },
        "id": "oUMhDsM1iguP",
        "outputId": "41d5e1ec-ded3-45a5-ad6d-d6ea9f713b0e"
      },
      "execution_count": 15,
      "outputs": [
        {
          "output_type": "stream",
          "name": "stdout",
          "text": [
            "[[7 9 8 2]]\n",
            "[[9]\n",
            " [2]\n",
            " [7]\n",
            " [5]]\n",
            "=======CONCATENADO=======\n",
            "[[7]\n",
            " [9]\n",
            " [8]\n",
            " [2]\n",
            " [9]\n",
            " [2]\n",
            " [7]\n",
            " [5]]\n"
          ]
        }
      ]
    },
    {
      "cell_type": "markdown",
      "source": [
        "2: Resolver las siguientes operaciones"
      ],
      "metadata": {
        "id": "XALaGfZcm_VP"
      }
    },
    {
      "cell_type": "code",
      "source": [
        "#1 Calculamos la suma, resta, multiplicacion y divicion de 2 vectores\n",
        "vector1 = np.random.randint(1,10, size=(1,4))\n",
        "vector2 = np.random.randint(1,10, size=(1,4))\n",
        "print(vector1)\n",
        "print(vector2)\n",
        "print('=======SUMA=======')\n",
        "print(vector1 + vector2)\n",
        "print('=======RESTA=======')\n",
        "print(vector1 - vector2)\n",
        "print('=======MULTIPLICACION=======')\n",
        "print(vector1 * vector2)"
      ],
      "metadata": {
        "colab": {
          "base_uri": "https://localhost:8080/"
        },
        "id": "Q0oWXO95kSu_",
        "outputId": "842d9852-e713-4bea-e45e-b48a3de8f0fe"
      },
      "execution_count": 17,
      "outputs": [
        {
          "output_type": "stream",
          "name": "stdout",
          "text": [
            "[[2 1 5 4]]\n",
            "[[9 6 2 4]]\n",
            "=======SUMA=======\n",
            "[[11  7  7  8]]\n",
            "=======RESTA=======\n",
            "[[-7 -5  3  0]]\n",
            "=======MULTIPLICACION=======\n",
            "[[18  6 10 16]]\n"
          ]
        }
      ]
    },
    {
      "cell_type": "code",
      "source": [
        "#2 Calculamos la media, mediana, desviacion estandar\n",
        "vector = np.array([4, 3, 3, 4, 5,7,9,12,15])\n",
        "media = np.mean(vector)\n",
        "mediana = np.median(vector)\n",
        "desviacion_estandar = np.std(vector)\n",
        "print(vector)\n",
        "print(\"Media: \",media,\"Mediana:\",mediana,\"Desviacion estandar: \", desviacion_estandar)"
      ],
      "metadata": {
        "colab": {
          "base_uri": "https://localhost:8080/"
        },
        "id": "AJxzAbcakp5X",
        "outputId": "7c773a8a-c71e-44b3-9cfc-dbfb5887dcaf"
      },
      "execution_count": 25,
      "outputs": [
        {
          "output_type": "stream",
          "name": "stdout",
          "text": [
            "[ 4  3  3  4  5  7  9 12 15]\n",
            "Media:  6.888888888888889 Mediana: 5.0 Desviacion estandar:  4.039924213932854\n"
          ]
        }
      ]
    },
    {
      "cell_type": "code",
      "source": [
        "#3 Normaliza un vector dividiendo cada elemento por le valor maximo\n",
        "vector = np.array([4, 3, 3, 4, 5,7,9,12,15])\n",
        "vector_normalizado = vector / np.max(vector)\n",
        "print(vector_normalizado)"
      ],
      "metadata": {
        "colab": {
          "base_uri": "https://localhost:8080/"
        },
        "id": "uRTezYINlt74",
        "outputId": "57f89038-6375-4cf8-d3eb-8df50f390154"
      },
      "execution_count": 26,
      "outputs": [
        {
          "output_type": "stream",
          "name": "stdout",
          "text": [
            "[0.26666667 0.2        0.2        0.26666667 0.33333333 0.46666667\n",
            " 0.6        0.8        1.        ]\n"
          ]
        }
      ]
    },
    {
      "cell_type": "code",
      "source": [
        "#4 Buscar el indice del valor maximo y minimo\n",
        "vector = np.array ([16,6,8,1,12,5,6])\n",
        "indice_maximo = np.argmax(vector)\n",
        "indice_minimo = np.argmin(vector)\n",
        "print(vector)\n",
        "print(\"Maximo: \", indice_maximo, \"Minimo: \", indice_minimo)"
      ],
      "metadata": {
        "colab": {
          "base_uri": "https://localhost:8080/"
        },
        "id": "vpocgU7umBQe",
        "outputId": "fc7bd952-5625-409a-eae7-bdd7e3de3454"
      },
      "execution_count": 28,
      "outputs": [
        {
          "output_type": "stream",
          "name": "stdout",
          "text": [
            "[16  6  8  1 12  5  6]\n",
            "Maximo:  0 Minimo:  3\n"
          ]
        }
      ]
    },
    {
      "cell_type": "code",
      "source": [
        "#5 Realizar un multiplicacion matricial de 2 matrices 3x3\n",
        "matriz1 = np.random.randint(1,10, size=(3,3))\n",
        "matriz2 = np.random.randint(1,10, size=(3,3))\n",
        "print(matriz1)\n",
        "print(matriz2)\n",
        "print('=======MULTIPLICACION=======')\n",
        "print(np.dot(matriz1, matriz2))\n"
      ],
      "metadata": {
        "colab": {
          "base_uri": "https://localhost:8080/"
        },
        "id": "jsJKu04omcbY",
        "outputId": "2dbf23f9-97af-4d71-f545-a9542b5eadb4"
      },
      "execution_count": 31,
      "outputs": [
        {
          "output_type": "stream",
          "name": "stdout",
          "text": [
            "[[3 8 1]\n",
            " [2 3 4]\n",
            " [4 2 1]]\n",
            "[[4 7 5]\n",
            " [1 3 4]\n",
            " [3 7 3]]\n",
            "=======MULTIPLICACION=======\n",
            "[[23 52 50]\n",
            " [23 51 34]\n",
            " [21 41 31]]\n"
          ]
        }
      ]
    },
    {
      "cell_type": "markdown",
      "source": [
        "3: Resolver con Numpy los siguientes casos"
      ],
      "metadata": {
        "id": "alKPLIGSnGLG"
      }
    },
    {
      "cell_type": "code",
      "source": [
        "#1 Elementos par del vector\n",
        "vector = np.array([4, 3, 3, 4, 5,7,9,12,15])\n",
        "pares = {}\n",
        "for i in range(len(vector)):\n",
        "    if vector[i] % 2 == 0:\n",
        "        pares[i] = vector[i]\n",
        "print(vector)\n",
        "print(\"Los elementos pares del vector son: \", pares)"
      ],
      "metadata": {
        "colab": {
          "base_uri": "https://localhost:8080/"
        },
        "id": "nvAhidHtnKl_",
        "outputId": "297dd57c-a86c-4bc8-af6c-b6d0adccf257"
      },
      "execution_count": 42,
      "outputs": [
        {
          "output_type": "stream",
          "name": "stdout",
          "text": [
            "[ 4  3  3  4  5  7  9 12 15]\n",
            "Los elementos pares del vector son:  {0: np.int64(4), 3: np.int64(4), 7: np.int64(12)}\n"
          ]
        }
      ]
    },
    {
      "cell_type": "code",
      "source": [
        "#2 Numeros mayores a 5\n",
        "vector = np.array([3,5,7,21,3,5,1,56,34,52,75])\n",
        "mayores_a_5= {}\n",
        "for i in range(len(vector)):\n",
        "    if vector[i] > 5 :\n",
        "        mayores_a_5[i] = int(vector[i])\n",
        "print(vector)\n",
        "print(mayores_a_5)"
      ],
      "metadata": {
        "colab": {
          "base_uri": "https://localhost:8080/"
        },
        "id": "Ai7Xkta2nQ7e",
        "outputId": "8a8ef574-5bcb-4d8a-9432-798e43b901f1"
      },
      "execution_count": 48,
      "outputs": [
        {
          "output_type": "stream",
          "name": "stdout",
          "text": [
            "[ 3  5  7 21  3  5  1 56 34 52 75]\n",
            "{2: 7, 3: 21, 7: 56, 8: 34, 9: 52, 10: 75}\n"
          ]
        }
      ]
    },
    {
      "cell_type": "code",
      "source": [
        "#3 Valores iguales a 0\n",
        "vector = np.random.randint(0, 5, size=10)\n",
        "negativos = {}\n",
        "for i in range(len(vector)):\n",
        "    if vector[i] == 0:\n",
        "        negativos[i] = int(vector[i])\n",
        "print(\"Vector generado:\", vector)\n",
        "print(\"Los elementos iguales a 0 son: \", negativos)"
      ],
      "metadata": {
        "colab": {
          "base_uri": "https://localhost:8080/"
        },
        "id": "cZTIBnNtpxWP",
        "outputId": "59bd9e70-92bb-417c-d8e0-590d4b37774d"
      },
      "execution_count": 57,
      "outputs": [
        {
          "output_type": "stream",
          "name": "stdout",
          "text": [
            "Vector generado: [4 2 4 4 0 3 1 0 3 0]\n",
            "Los elementos iguales a 0 son:  {4: 0, 7: 0, 9: 0}\n"
          ]
        }
      ]
    },
    {
      "cell_type": "code",
      "source": [
        "#4 Filtar valores negativos\n",
        "vector = np.array([-3,5,7,-21,3,-5,-1,56,34,52,75])\n",
        "negativos ={}\n",
        "for i in range(len(vector)):\n",
        "  if vector[i] < 0:\n",
        "    negativos[i] = int(vector[i])\n",
        "print(vector)\n",
        "print(negativos)"
      ],
      "metadata": {
        "colab": {
          "base_uri": "https://localhost:8080/"
        },
        "id": "EVIld6V6rdZH",
        "outputId": "c8864fca-284e-4ea2-8243-6339b9f46019"
      },
      "execution_count": 58,
      "outputs": [
        {
          "output_type": "stream",
          "name": "stdout",
          "text": [
            "[ -3   5   7 -21   3  -5  -1  56  34  52  75]\n",
            "{0: -3, 3: -21, 5: -5, 6: -1}\n"
          ]
        }
      ]
    },
    {
      "cell_type": "code",
      "source": [
        "#5 Sacamos la media\n",
        "vector = np.random.randint(45, 100, size=10)\n",
        "mayores = {}\n",
        "for i in range(len(vector)):\n",
        "    if vector[i] > 50:\n",
        "        mayores[i] = int(vector[i])\n",
        "print(vector)\n",
        "print(mayores)\n",
        "#Sacacamos la media de los numeros mayores a 50\n",
        "media = np.mean(list(mayores.values()))\n",
        "print(\"La media de los numeros mayores a 50 es: \", media)\n"
      ],
      "metadata": {
        "colab": {
          "base_uri": "https://localhost:8080/"
        },
        "id": "783pjdFCr7vm",
        "outputId": "afa73e37-e73e-4fca-a022-09e08a20ad83"
      },
      "execution_count": 64,
      "outputs": [
        {
          "output_type": "stream",
          "name": "stdout",
          "text": [
            "[98 88 83 80 68 67 89 74 73 85]\n",
            "{0: 98, 1: 88, 2: 83, 3: 80, 4: 68, 5: 67, 6: 89, 7: 74, 8: 73, 9: 85}\n",
            "La media de los numeros mayores a 50 es:  80.5\n"
          ]
        }
      ]
    },
    {
      "cell_type": "markdown",
      "source": [
        "4: Resolver con Numpy los siguientes casos"
      ],
      "metadata": {
        "id": "5JZ_FsBvtWuf"
      }
    },
    {
      "cell_type": "code",
      "source": [
        "#1 Crear un vector de 10 elementos y los numeros iguales a 5 rempalzarlos con 0\n",
        "vector = np.random.randint(0, 10, size=10)\n",
        "print(\"Vector Inicial: \",vector)\n",
        "for i in range(len(vector)):\n",
        "    if vector[i] == 5:\n",
        "        vector[i] = 0\n",
        "print(vector)"
      ],
      "metadata": {
        "colab": {
          "base_uri": "https://localhost:8080/"
        },
        "id": "A6wmbtrktbE-",
        "outputId": "253f1f48-0815-4d7b-e7dd-5b00439bd79d"
      },
      "execution_count": 67,
      "outputs": [
        {
          "output_type": "stream",
          "name": "stdout",
          "text": [
            "Vector Inicial:  [6 4 7 0 7 2 4 1 7 5]\n",
            "[6 4 7 0 7 2 4 1 7 0]\n"
          ]
        }
      ]
    },
    {
      "cell_type": "code",
      "source": [
        "#Combinar 2 vectores boleanos usando and y or\n",
        "vector1 = np.array([True, False, True, True])\n",
        "vector2 = np.array([False, True, False, True])\n",
        "print(vector1)\n",
        "print(vector2)\n",
        "print('=======AND=======')\n",
        "print(np.logical_and(vector1, vector2))\n",
        "print('=======OR=======')\n",
        "print(np.logical_or(vector1, vector2))\n"
      ],
      "metadata": {
        "colab": {
          "base_uri": "https://localhost:8080/"
        },
        "id": "-2OYH6L7t7gH",
        "outputId": "0f01332f-5868-423c-a113-45962beb0e68"
      },
      "execution_count": 68,
      "outputs": [
        {
          "output_type": "stream",
          "name": "stdout",
          "text": [
            "[ True False  True  True]\n",
            "[False  True False  True]\n",
            "=======AND=======\n",
            "[False False False  True]\n",
            "=======OR=======\n",
            "[ True  True  True  True]\n"
          ]
        }
      ]
    },
    {
      "cell_type": "code",
      "source": [
        "#Contar los valores de un vector que son multilplos de 3\n",
        "vector = np.array([3,5,7,21,3,5,1,56,34,52,75])\n",
        "multiplos_de_3 = {}\n",
        "for i in range(len(vector)):\n",
        "  if(vector[i] %3 == 0):\n",
        "    multiplos_de_3[i] = int(vector[i])\n",
        "print(vector)\n",
        "print(\"Los multiplos de 3 son: \",multiplos_de_3)"
      ],
      "metadata": {
        "colab": {
          "base_uri": "https://localhost:8080/"
        },
        "id": "n_P_UUtfuNsX",
        "outputId": "51ab48dd-fe42-4d9f-fac3-74ced845fcf3"
      },
      "execution_count": 69,
      "outputs": [
        {
          "output_type": "stream",
          "name": "stdout",
          "text": [
            "[ 3  5  7 21  3  5  1 56 34 52 75]\n",
            "Los multiplos de 3 son:  {0: 3, 3: 21, 4: 3, 10: 75}\n"
          ]
        }
      ]
    },
    {
      "cell_type": "code",
      "source": [
        "#Encontramos los indices de los elementos nulos en un vector usando np.nonzero\n",
        "vector= np.array([1,2,3,4,0,5,0,0,0])\n",
        "indices_nulos = np.nonzero(vector == 0)\n",
        "print(vector)\n",
        "print(\"Los indices de los elementos nulos son: \",indices_nulos)"
      ],
      "metadata": {
        "colab": {
          "base_uri": "https://localhost:8080/"
        },
        "id": "O_xeDA1nvDOm",
        "outputId": "91a5f9f3-8079-4a88-bd3b-62647b814fea"
      },
      "execution_count": 70,
      "outputs": [
        {
          "output_type": "stream",
          "name": "stdout",
          "text": [
            "[1 2 3 4 0 5 0 0 0]\n",
            "Los indices de los elementos nulos son:  (array([4, 6, 7, 8]),)\n"
          ]
        }
      ]
    }
  ]
}